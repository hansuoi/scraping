{
 "cells": [
  {
   "cell_type": "code",
   "execution_count": 30,
   "metadata": {},
   "outputs": [],
   "source": [
    "import requests\n",
    "from bs4 import BeautifulSoup\n",
    "import re"
   ]
  },
  {
   "cell_type": "code",
   "execution_count": 44,
   "metadata": {},
   "outputs": [],
   "source": [
    "urlName = \"https://business.nikkei.com\"\n",
    "url = requests.get(urlName)\n",
    "soup = BeautifulSoup(url.content, \"html.parser\")\n",
    "# soupにはhtmlのコードが格納されている"
   ]
  },
  {
   "cell_type": "code",
   "execution_count": 45,
   "metadata": {},
   "outputs": [
    {
     "name": "stdout",
     "output_type": "stream",
     "text": [
      "i = 7\n",
      "止まらない工場へ　終わりなき改革\n",
      "「アビガン」国内生産の富士フイルム、それでも世界に分散へ\n",
      "https://business.nikkei.com/atcl/gen/19/00182/072800002/ \n",
      "\n",
      "i = 11\n",
      "白壁達久のネット企業盛衰記\n",
      "狭まるTikTok包囲網、若者文化を国が絶てるか\n",
      "https://business.nikkei.com/atcl/gen/19/00128/072900010/ \n",
      "\n",
      "i = 15\n",
      "両論激論\n",
      "［議論］「アベノマスク」今後も8000万枚配布、継続は是か非か？\n",
      "https://business.nikkei.com/atcl/forum/19/00026/072900036/ \n",
      "\n",
      "i = 18\n",
      "もうやめる？ノルマ　～アフターコ…\n",
      "「むちゃなノルマ」は破滅を招く 御社と不祥事企業、実は紙一重\n",
      "https://business.nikkei.com/atcl/gen/19/00180/072700003/ \n",
      "\n",
      "i = 21\n",
      "森 永輔の世界の今・日本の将来\n",
      "軍事紛争あおるトランプ再選戦略、被害は日本と台湾に\n",
      "https://business.nikkei.com/atcl/gen/19/00179/072800001/ \n",
      "\n",
      "i = 24\n",
      "1分解説\n",
      "キヤノン、四半期初の最終赤字 「時代に取り残される」と危機感\n",
      "https://business.nikkei.com/atcl/gen/19/00002/072801237/ \n",
      "\n",
      "i = 27\n",
      "M&A深読み裏読み\n",
      "大戸屋は惨敗デサントの二の舞いになるのか\n",
      "https://business.nikkei.com/atcl/gen/19/00121/072800014/ \n",
      "\n",
      "i = 30\n",
      "止まらない工場へ　終わりなき改革\n",
      "新連載：マツダ、危機の連鎖で大減産　コロナとの苦闘6カ月\n",
      "https://business.nikkei.com/atcl/gen/19/00182/072700001/ \n",
      "\n",
      "i = 33\n",
      "軽井沢にアジアのための全寮制高校…\n",
      "コロナ禍で、生徒を守り、オンライン教育「ISAKx」で攻める\n",
      "https://business.nikkei.com/article/topics/20101102/216911/072100001/ \n",
      "\n",
      "i = 36\n",
      "クルマのうんテク\n",
      "「カローラはSUV」の時代が来ても驚かない\n",
      "https://business.nikkei.com/atcl/seminar/19/00113/00043/ \n",
      "\n",
      "i = 41\n",
      "篠田真貴子の「経営の…\n",
      "［解説］リモートワークが問う経営戦略と面白がる力\n",
      "https://business.nikkei.com/atcl/forum/19/00036/072700002/ \n",
      "\n",
      "i = 44\n",
      "橋本宗明が医薬・医療の先を読む\n",
      "新薬量産期に入った中外製薬、新技術「改変抗体」も実用化\n",
      "https://business.nikkei.com/atcl/gen/19/00110/072800037/ \n",
      "\n",
      "i = 48\n",
      "日経ビジネスLIVE\n",
      "「ジョブ型導入のカギ」「在宅勤務の懸念点」、新時代の働き方とは\n",
      "https://business.nikkei.com/atcl/forum/19/00035/072800013/ \n",
      "\n",
      "i = 51\n",
      "細川昌彦の「深層・世界のパワーゲ…\n",
      "いまだ「訪日客6000万人」を掲げる愚、欠けている安全保障の視点\n",
      "https://business.nikkei.com/atcl/seminar/19/00133/00039/ \n",
      "\n",
      "i = 54\n",
      "市嶋洋平のシリコンバレーインサイ…\n",
      "新型コロナ後の新常態、早くも「Zoomの次」探るシリコンバレー\n",
      "https://business.nikkei.com/atcl/gen/19/00137/072700005/ \n",
      "\n",
      "i = 56\n",
      "佐伯真也の「日の丸電機サバイバル…\n",
      "日本で走った「ソニーのEV」、安全性の真価は見えず\n",
      "https://business.nikkei.com/atcl/gen/19/00112/072700010/ \n",
      "\n",
      "i = 58\n",
      "上野泰也のエコノミック・ソナー\n",
      "「抗体が消える」「不安は消えない」コロナとの闘いは長期持久戦\n",
      "https://business.nikkei.com/atcl/seminar/19/00122/00081/ \n",
      "\n",
      "i = 60\n",
      "武田安恵の「お金の話をしませんか…\n",
      "20～30代が少額利用　コロナで脚光、LINEの信用スコア融資\n",
      "https://business.nikkei.com/atcl/gen/19/00116/072700013/ \n",
      "\n",
      "i = 62\n",
      "グルメサイトという幻\n",
      "「豚組」も閉店、外食「成功の方程式」がコロナで暗転\n",
      "https://business.nikkei.com/atcl/gen/19/00131/072200010/ \n",
      "\n",
      "i = 64\n",
      "奥平力の新・列島改造論\n",
      "「部分最適と全体最適の乖離」ふるさと納税判決で神戸大・保田氏\n",
      "https://business.nikkei.com/atcl/gen/19/00134/072200007/ \n",
      "\n"
     ]
    }
   ],
   "source": [
    "elems = soup.find_all(\"span\")\n",
    "# spanタグの文章のリスト\n",
    "\n",
    "i = -1\n",
    "l = []\n",
    "for elem in elems:\n",
    "    i += 1\n",
    "    try:\n",
    "        string = elem.get(\"class\").pop(0)\n",
    "        if string in \"category\":\n",
    "            print(\"i = {}\".format(i))\n",
    "            l.append(i)\n",
    "            print(elem.string)\n",
    "            title = elem.find_next_sibling(\"h3\")\n",
    "            print(title.text.replace('\\n',''))\n",
    "            r = elem.find_previous('a')\n",
    "            print(urlName + r.get('href'), '\\n')\n",
    "    except:\n",
    "        pass"
   ]
  },
  {
   "cell_type": "code",
   "execution_count": 49,
   "metadata": {},
   "outputs": [
    {
     "name": "stdout",
     "output_type": "stream",
     "text": [
      "<span class=\"\">止まらない工場へ　終わりなき改革</span>\n"
     ]
    }
   ],
   "source": [
    "print(elems[l[0]])"
   ]
  }
 ],
 "metadata": {
  "kernelspec": {
   "display_name": "Python 3",
   "language": "python",
   "name": "python3"
  },
  "language_info": {
   "codemirror_mode": {
    "name": "ipython",
    "version": 3
   },
   "file_extension": ".py",
   "mimetype": "text/x-python",
   "name": "python",
   "nbconvert_exporter": "python",
   "pygments_lexer": "ipython3",
   "version": "3.7.7"
  }
 },
 "nbformat": 4,
 "nbformat_minor": 4
}
